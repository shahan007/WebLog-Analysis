{
 "cells": [
  {
   "cell_type": "markdown",
   "metadata": {},
   "source": [
    "<br>\n",
    "<p>\n",
    "    Weblog Dataset is used from the following website:<a>https://www.kaggle.com/shawon10/web-log-dataset/data</a>.\n",
    "    <br>\n",
    "    The dataset is stored in weblog.csv file in <b><i>Data</i></b> dir \n",
    "    <br>\n",
    "    Clean and reformatted file is store in log.sqlite file in <b><i>Output</i></b> dir\n",
    "</p>"
   ]
  },
  {
   "cell_type": "markdown",
   "metadata": {},
   "source": [
    "<br>\n",
    "<h5>Libraries used</h5>"
   ]
  },
  {
   "cell_type": "code",
   "execution_count": 52,
   "metadata": {},
   "outputs": [],
   "source": [
    "# Libraries used this TMA\n",
    "import pandas as pd\n",
    "import numpy as np\n",
    "import seaborn as sns\n",
    "import matplotlib.pyplot as plt\n",
    "%matplotlib inline\n",
    "\n",
    "from sqlalchemy.ext.declarative import declarative_base\n",
    "from sqlalchemy import create_engine , Column , String ,Integer , Date , Time ,extract , desc , distinct ,func \n",
    "from sqlalchemy.orm import Session \n",
    "import calendar"
   ]
  },
  {
   "cell_type": "markdown",
   "metadata": {},
   "source": [
    "<br>\n",
    "<h4>Different values for each column</h4>\n",
    "\n",
    "<p>For each feature number of unique values are as following:</p>\n",
    "<ul>\n",
    "    <li>IP    &emsp;&emsp;&nbsp;= 16</li>\n",
    "    <li>Time  &emsp;= 7307</li>\n",
    "    <li>URL   &emsp;&nbsp;= 314</li>\n",
    "    <li>Staus&emsp;=13</li>\n",
    "</ul>\n",
    "<p>\n",
    "Overall, there are 218 useless rows. To be specific, there are 11 unique useless values for IP column, 8 for Status column, 22 for URL column and 9 for Time column which tallies up to 218 rows of useless values.\n",
    "</p>"
   ]
  },
  {
   "cell_type": "markdown",
   "metadata": {},
   "source": [
    "<h4> Data Cleaning</h4>\n",
    "\n",
    "<p>>>> Removing the useless item and reformat the dataset in the following columns: <b>\n",
    "    ‘IP’, ‘date’, ‘time’, ‘request type’, ‘URL’, ‘status code’. </b></p>"
   ]
  },
  {
   "cell_type": "code",
   "execution_count": 53,
   "metadata": {},
   "outputs": [
    {
     "name": "stdout",
     "output_type": "stream",
     "text": [
      "\n",
      "Cleaned DataFrame:\n",
      "\n"
     ]
    },
    {
     "data": {
      "text/html": [
       "<div>\n",
       "<style scoped>\n",
       "    .dataframe tbody tr th:only-of-type {\n",
       "        vertical-align: middle;\n",
       "    }\n",
       "\n",
       "    .dataframe tbody tr th {\n",
       "        vertical-align: top;\n",
       "    }\n",
       "\n",
       "    .dataframe thead th {\n",
       "        text-align: right;\n",
       "    }\n",
       "</style>\n",
       "<table border=\"1\" class=\"dataframe\">\n",
       "  <thead>\n",
       "    <tr style=\"text-align: right;\">\n",
       "      <th></th>\n",
       "      <th>Date</th>\n",
       "      <th>Time</th>\n",
       "      <th>IP</th>\n",
       "      <th>URL</th>\n",
       "      <th>Status_Code</th>\n",
       "      <th>Request_Type</th>\n",
       "    </tr>\n",
       "  </thead>\n",
       "  <tbody>\n",
       "    <tr>\n",
       "      <th>0</th>\n",
       "      <td>2017-11-07</td>\n",
       "      <td>23:59:19</td>\n",
       "      <td>10.130.2.1</td>\n",
       "      <td>/</td>\n",
       "      <td>200</td>\n",
       "      <td>GET</td>\n",
       "    </tr>\n",
       "    <tr>\n",
       "      <th>1</th>\n",
       "      <td>2017-11-07</td>\n",
       "      <td>23:59:19</td>\n",
       "      <td>10.130.2.1</td>\n",
       "      <td>/</td>\n",
       "      <td>200</td>\n",
       "      <td>GET</td>\n",
       "    </tr>\n",
       "    <tr>\n",
       "      <th>2</th>\n",
       "      <td>2017-11-08</td>\n",
       "      <td>01:36:22</td>\n",
       "      <td>10.128.2.1</td>\n",
       "      <td>/</td>\n",
       "      <td>302</td>\n",
       "      <td>GET</td>\n",
       "    </tr>\n",
       "  </tbody>\n",
       "</table>\n",
       "</div>"
      ],
      "text/plain": [
       "        Date      Time          IP URL  Status_Code Request_Type\n",
       "0 2017-11-07  23:59:19  10.130.2.1   /          200          GET\n",
       "1 2017-11-07  23:59:19  10.130.2.1   /          200          GET\n",
       "2 2017-11-08  01:36:22  10.128.2.1   /          302          GET"
      ]
     },
     "metadata": {},
     "output_type": "display_data"
    }
   ],
   "source": [
    "df = pd.read_csv('./Data/weblog.csv')\n",
    "df = df.loc[df['IP'].str.startswith('1')].reset_index().drop('index',axis=1)\n",
    "df = pd.concat([\n",
    "    pd.DataFrame(df['Time'].str[1:].str.strip().str.split(':',n=1).to_list(),columns=['Date','Time']),\n",
    "    df.drop('Time',axis=1)\n",
    "],axis=1)\n",
    "df['Date'] , df['Request_Type'] , df['Staus'] , df['Time'] , df['URL']= pd.to_datetime(df['Date']) \\\n",
    "                                                                , df['URL'].str.split().str[0].str.strip()\\\n",
    "                                                                , df[\"Staus\"].astype('int')\\\n",
    "                                                                , pd.to_datetime(df['Time'],format= '%H:%M:%S' ).dt.time\\\n",
    "                                                                ,df['URL'].str.split().str.get(1)\n",
    "df.rename(columns={\"Staus\":'Status_Code'},inplace=True)\n",
    "df = df.sort_values(by='Date').reset_index(drop=True)\n",
    "print(\"\\nCleaned DataFrame:\\n\")\n",
    "display(df.head(3))"
   ]
  },
  {
   "cell_type": "markdown",
   "metadata": {},
   "source": [
    "<br>\n",
    "<h4>Storing Clean Dataset</h4>\n",
    "<p>\n",
    "    Applied Python ORM(s) to store the cleaned log file.    \n",
    "</p>"
   ]
  },
  {
   "cell_type": "code",
   "execution_count": 54,
   "metadata": {
    "scrolled": true
   },
   "outputs": [],
   "source": [
    "# Engine & Base creation\n",
    "engine = create_engine('sqlite:///./Output/log.sqlite')\n",
    "Base   = declarative_base()\n",
    "engine.execute('DROP TABLE IF EXISTS weblog')\n",
    "\n",
    "# ORM CLASS TO STORE weblog DATAFRAME\n",
    "class WebLog(Base):\n",
    "    \n",
    "    __tablename__ = 'weblog'\n",
    "    \n",
    "    id           = Column(Integer,primary_key=True)\n",
    "    date         = Column(Date)\n",
    "    time         = Column(Time)\n",
    "    ip           = Column(String(45) , nullable=False)\n",
    "    url          = Column(String,nullable=False)\n",
    "    status_code  = Column(Integer)\n",
    "    request_type = Column(String(8) , nullable = False)\n",
    "    \n",
    "    def __repr__ (self):\n",
    "        return  f\"ID {self.id:<5} | IP {self.ip}\"\n",
    "\n",
    "Base.metadata.create_all(engine)\n",
    "# SESSION\n",
    "session = Session(bind=engine)\n",
    "# STORES THE WebLog class instances\n",
    "store_instances = []\n",
    "for i in range(len(df)):\n",
    "    row = df.iloc[i]\n",
    "    instance = WebLog(\n",
    "        date = row['Date'],\n",
    "        time = row['Time'],\n",
    "        ip   = row['IP'],\n",
    "        url  = row['URL'],\n",
    "        status_code  = row['Status_Code'].item(),\n",
    "        request_type = row['Request_Type']\n",
    "    )\n",
    "    store_instances.append(instance)\n",
    "\n",
    "session.add_all(store_instances)\n",
    "session.commit()\n",
    "session.close()\n",
    "engine.dispose()"
   ]
  },
  {
   "cell_type": "markdown",
   "metadata": {},
   "source": [
    "<br>\n",
    "<h4>Important Queries - <u>without pandas</u></h4>\n",
    "<br>\n",
    "<p>\n",
    "    >>> Querying Top 3 frequent <b>IP addresses</b> for each year\n",
    "</p>"
   ]
  },
  {
   "cell_type": "code",
   "execution_count": 55,
   "metadata": {},
   "outputs": [
    {
     "name": "stdout",
     "output_type": "stream",
     "text": [
      "Top 3 frequent IP addresses for each year\n",
      "\n",
      "For Year 2017:\n",
      "IP\t    Count\n",
      "10.131.0.1  2113\n",
      "10.130.2.1  1956\n",
      "10.128.2.1  1836\n",
      "\n",
      "For Year 2018:\n",
      "IP\t    Count\n",
      "10.128.2.1  2421\n",
      "10.130.2.1  2100\n",
      "10.131.0.1  2085\n"
     ]
    }
   ],
   "source": [
    "engine  = create_engine('sqlite:///./Output/log.sqlite')\n",
    "session = Session(engine)\n",
    "\n",
    "top_three_years = []\n",
    "for year in ['2017','2018']:\n",
    "    temp_lis =session.query(WebLog.ip,func.count(WebLog.ip).label('IP_Count_Per_Year'))\\\n",
    "                  .filter(extract('year',WebLog.date)==year)\\\n",
    "                  .group_by(WebLog.ip)\\\n",
    "                  .order_by(desc('IP_Count_Per_Year')).limit(3).all()\n",
    "    top_three_years.append((year,temp_lis))\n",
    "\n",
    "print('Top 3 frequent IP addresses for each year')\n",
    "for year , content in top_three_years:\n",
    "    print(f'\\nFor Year {year}:')\n",
    "    print(f\"IP\\t    Count\")\n",
    "    for ip in content:\n",
    "        print(f\"{ip[0]}  {ip[1]}\")"
   ]
  },
  {
   "cell_type": "markdown",
   "metadata": {},
   "source": [
    "<br>\n",
    "<p>\n",
    "    >>> Top 3 months which incur more <b>404</b> error code.\n",
    "</p>"
   ]
  },
  {
   "cell_type": "code",
   "execution_count": 56,
   "metadata": {},
   "outputs": [
    {
     "name": "stdout",
     "output_type": "stream",
     "text": [
      "Top 3 months which incur more 404 error code\n",
      "\n",
      "Month\tMonth_Name   Count\n",
      "11      November     139\n",
      "12      December     67\n",
      "2       February     34\n"
     ]
    }
   ],
   "source": [
    "top_three_months=session.query(extract('month',WebLog.date).label('Month'),func.count(WebLog.status_code)\\\n",
    "              .label('Status404_Count_Per_Month'))\\\n",
    "              .filter(WebLog.status_code == 404)\\\n",
    "              .group_by('Month')\\\n",
    "              .order_by(desc('Status404_Count_Per_Month'))\\\n",
    "              .limit(3).all()\n",
    "\n",
    "print('Top 3 months which incur more 404 error code\\n')\n",
    "print(\"Month\\tMonth_Name   Count\")\n",
    "for content in top_three_months:\n",
    "    print(f\"{content[0]:<7} {calendar.month_name[content[0]]:<12} {content[1]}\")"
   ]
  },
  {
   "cell_type": "markdown",
   "metadata": {},
   "source": [
    "<br>\n",
    "<p>\n",
    "    >>> The average number of <b>GET</b> & <b>POST</b> requests on a monthly base\n",
    "</p>"
   ]
  },
  {
   "cell_type": "code",
   "execution_count": 57,
   "metadata": {},
   "outputs": [
    {
     "name": "stdout",
     "output_type": "stream",
     "text": [
      "The average number of GET & POST requests on a monthly base\n",
      "\n",
      "Type   Count\n",
      "GET    3019.6\n",
      "POST   136.4\n"
     ]
    }
   ],
   "source": [
    "sub_q_iii = session.query(WebLog.request_type,extract('month',WebLog.date).label('Month'),func.count(WebLog.request_type).label('Count'))\\\n",
    "                .filter(WebLog.request_type.in_(['GET','POST']))\\\n",
    "                .group_by(WebLog.request_type,'Month').subquery()\n",
    "avg_get_post = session.query(sub_q_iii.columns.request_type,func.avg(sub_q_iii.columns.Count))\\\n",
    "                      .group_by(sub_q_iii.columns.request_type).all()\n",
    "\n",
    "print('The average number of GET & POST requests on a monthly base')\n",
    "print('\\nType   Count')\n",
    "for req , count in avg_get_post:\n",
    "    print(f\"{req:<4}   {count}\")\n",
    "    \n",
    "session.close()\n",
    "engine.dispose()"
   ]
  },
  {
   "cell_type": "markdown",
   "metadata": {},
   "source": [
    "<br>\n",
    "<h4>Important Queries - <u>with pandas</u></h4>\n",
    "<br>\n",
    "<p>\n",
    "    >>> Querying Top 3 frequent <b>IP addresses</b> for each year\n",
    "    >>> Top 3 months which incur more <b>404</b> error code.\n",
    "    >>> The average number of <b>GET</b> & <b>POST</b> requests on a monthly base\n",
    "</p>"
   ]
  },
  {
   "cell_type": "code",
   "execution_count": 58,
   "metadata": {},
   "outputs": [
    {
     "name": "stdout",
     "output_type": "stream",
     "text": [
      "Top THREE (3) frequent IP addresses for each year:\n"
     ]
    },
    {
     "data": {
      "text/html": [
       "<div>\n",
       "<style scoped>\n",
       "    .dataframe tbody tr th:only-of-type {\n",
       "        vertical-align: middle;\n",
       "    }\n",
       "\n",
       "    .dataframe tbody tr th {\n",
       "        vertical-align: top;\n",
       "    }\n",
       "\n",
       "    .dataframe thead th {\n",
       "        text-align: right;\n",
       "    }\n",
       "</style>\n",
       "<table border=\"1\" class=\"dataframe\">\n",
       "  <thead>\n",
       "    <tr style=\"text-align: right;\">\n",
       "      <th></th>\n",
       "      <th></th>\n",
       "      <th>COUNT</th>\n",
       "    </tr>\n",
       "    <tr>\n",
       "      <th>YEAR</th>\n",
       "      <th>IP</th>\n",
       "      <th></th>\n",
       "    </tr>\n",
       "  </thead>\n",
       "  <tbody>\n",
       "    <tr>\n",
       "      <th rowspan=\"3\" valign=\"top\">2017</th>\n",
       "      <th>10.131.0.1</th>\n",
       "      <td>2113</td>\n",
       "    </tr>\n",
       "    <tr>\n",
       "      <th>10.130.2.1</th>\n",
       "      <td>1956</td>\n",
       "    </tr>\n",
       "    <tr>\n",
       "      <th>10.128.2.1</th>\n",
       "      <td>1836</td>\n",
       "    </tr>\n",
       "    <tr>\n",
       "      <th rowspan=\"3\" valign=\"top\">2018</th>\n",
       "      <th>10.128.2.1</th>\n",
       "      <td>2421</td>\n",
       "    </tr>\n",
       "    <tr>\n",
       "      <th>10.130.2.1</th>\n",
       "      <td>2100</td>\n",
       "    </tr>\n",
       "    <tr>\n",
       "      <th>10.131.0.1</th>\n",
       "      <td>2085</td>\n",
       "    </tr>\n",
       "  </tbody>\n",
       "</table>\n",
       "</div>"
      ],
      "text/plain": [
       "                 COUNT\n",
       "YEAR IP               \n",
       "2017 10.131.0.1   2113\n",
       "     10.130.2.1   1956\n",
       "     10.128.2.1   1836\n",
       "2018 10.128.2.1   2421\n",
       "     10.130.2.1   2100\n",
       "     10.131.0.1   2085"
      ]
     },
     "metadata": {},
     "output_type": "display_data"
    },
    {
     "name": "stdout",
     "output_type": "stream",
     "text": [
      "\n",
      "Top THREE (3) months which incur more 404 error code:\n"
     ]
    },
    {
     "data": {
      "text/html": [
       "<div>\n",
       "<style scoped>\n",
       "    .dataframe tbody tr th:only-of-type {\n",
       "        vertical-align: middle;\n",
       "    }\n",
       "\n",
       "    .dataframe tbody tr th {\n",
       "        vertical-align: top;\n",
       "    }\n",
       "\n",
       "    .dataframe thead th {\n",
       "        text-align: right;\n",
       "    }\n",
       "</style>\n",
       "<table border=\"1\" class=\"dataframe\">\n",
       "  <thead>\n",
       "    <tr style=\"text-align: right;\">\n",
       "      <th></th>\n",
       "      <th></th>\n",
       "      <th>COUNT</th>\n",
       "    </tr>\n",
       "    <tr>\n",
       "      <th>MONTH</th>\n",
       "      <th>MONTH_NAME</th>\n",
       "      <th></th>\n",
       "    </tr>\n",
       "  </thead>\n",
       "  <tbody>\n",
       "    <tr>\n",
       "      <th>11</th>\n",
       "      <th>November</th>\n",
       "      <td>139</td>\n",
       "    </tr>\n",
       "    <tr>\n",
       "      <th>12</th>\n",
       "      <th>December</th>\n",
       "      <td>67</td>\n",
       "    </tr>\n",
       "    <tr>\n",
       "      <th>2</th>\n",
       "      <th>February</th>\n",
       "      <td>34</td>\n",
       "    </tr>\n",
       "  </tbody>\n",
       "</table>\n",
       "</div>"
      ],
      "text/plain": [
       "                  COUNT\n",
       "MONTH MONTH_NAME       \n",
       "11    November      139\n",
       "12    December       67\n",
       "2     February       34"
      ]
     },
     "metadata": {},
     "output_type": "display_data"
    },
    {
     "name": "stdout",
     "output_type": "stream",
     "text": [
      "\n",
      "The average number of GET & POST requests on a monthly base:\n",
      "\n"
     ]
    },
    {
     "data": {
      "text/html": [
       "<div>\n",
       "<style scoped>\n",
       "    .dataframe tbody tr th:only-of-type {\n",
       "        vertical-align: middle;\n",
       "    }\n",
       "\n",
       "    .dataframe tbody tr th {\n",
       "        vertical-align: top;\n",
       "    }\n",
       "\n",
       "    .dataframe thead th {\n",
       "        text-align: right;\n",
       "    }\n",
       "</style>\n",
       "<table border=\"1\" class=\"dataframe\">\n",
       "  <thead>\n",
       "    <tr style=\"text-align: right;\">\n",
       "      <th></th>\n",
       "      <th>AVG_PER_MONTH</th>\n",
       "    </tr>\n",
       "    <tr>\n",
       "      <th>REQUEST_TYPE</th>\n",
       "      <th></th>\n",
       "    </tr>\n",
       "  </thead>\n",
       "  <tbody>\n",
       "    <tr>\n",
       "      <th>GET</th>\n",
       "      <td>3019.6</td>\n",
       "    </tr>\n",
       "    <tr>\n",
       "      <th>POST</th>\n",
       "      <td>136.4</td>\n",
       "    </tr>\n",
       "  </tbody>\n",
       "</table>\n",
       "</div>"
      ],
      "text/plain": [
       "              AVG_PER_MONTH\n",
       "REQUEST_TYPE               \n",
       "GET                  3019.6\n",
       "POST                  136.4"
      ]
     },
     "metadata": {},
     "output_type": "display_data"
    }
   ],
   "source": [
    "df = pd.read_sql('weblog',con='sqlite:///./Output/log.sqlite',index_col=['id'])\n",
    "df.rename(columns=str.upper,inplace=True)\n",
    "\n",
    "# Top THREE (3) frequent IP addresses for each year.\n",
    "frequent_ip_df  = df['IP'].groupby(df['DATE'].dt.year).apply(lambda s : s.value_counts().head(3)).to_frame()\n",
    "frequent_ip_df.rename(columns={\"IP\":\"COUNT\"},inplace=True)\n",
    "frequent_ip_df.index.names = ['YEAR','IP']\n",
    "\n",
    "# Top THREE (3) months which incur more 404 error code.\n",
    "\n",
    "error_404_df  = df.loc[df['STATUS_CODE']==404]\n",
    "error_404_df  = error_404_df.groupby(error_404_df['DATE'].dt.month).size()\\\n",
    "                .sort_values(ascending=False).head(3).to_frame()\\\n",
    "                .rename(columns={0:\"COUNT\"})\n",
    "error_404_df.index = pd.MultiIndex.from_arrays([error_404_df.index.values\\\n",
    "                                                ,error_404_df.index.map(lambda m : calendar.month_name[m]).values])\n",
    "error_404_df.index.names=['MONTH','MONTH_NAME']\n",
    "\n",
    "# The average number of GET & POST requests on a monthly base.\n",
    "\n",
    "avg_GP_df = df.loc[(df['REQUEST_TYPE'] == 'GET') | (df['REQUEST_TYPE'] == 'POST')]\n",
    "avg_GP_df = avg_GP_df['REQUEST_TYPE'].groupby(avg_GP_df['DATE'].dt.month).value_counts().unstack().mean()\\\n",
    "                .to_frame().rename(columns={0:'AVG_PER_MONTH'})\n",
    "\n",
    "print(\"Top THREE (3) frequent IP addresses for each year:\")\n",
    "display(frequent_ip_df)\n",
    "print(\"\\nTop THREE (3) months which incur more 404 error code:\")\n",
    "display(error_404_df)\n",
    "print(\"\\nThe average number of GET & POST requests on a monthly base:\\n\")\n",
    "display(avg_GP_df)"
   ]
  },
  {
   "cell_type": "markdown",
   "metadata": {},
   "source": [
    "<br>\n",
    "<h4> \n",
    "    Listing the content that cannot be found by requests.\n",
    "</h4>"
   ]
  },
  {
   "cell_type": "code",
   "execution_count": 59,
   "metadata": {},
   "outputs": [
    {
     "name": "stdout",
     "output_type": "stream",
     "text": [
      "\n",
      "Content that cannot be found by requests:\n",
      "\n",
      "/robots.txt\n",
      "/djs/vendor/bootstrap-datetimepicker.js\n",
      "/favicon.ico\n",
      "/css/bootstrap.min.css.map\n"
     ]
    }
   ],
   "source": [
    "def get_content(df):\n",
    "    return df.loc[df['STATUS_CODE'].between(400,499)]['URL'].unique()\n",
    "print('\\nContent that cannot be found by requests:\\n')\n",
    "for content in get_content(df):\n",
    "    print(content)"
   ]
  },
  {
   "cell_type": "markdown",
   "metadata": {},
   "source": [
    "<br>\n",
    "<h4>\n",
    "    Listing out the content that causes the highest number of client errors.\n",
    "</h4>"
   ]
  },
  {
   "cell_type": "code",
   "execution_count": 60,
   "metadata": {
    "scrolled": true
   },
   "outputs": [
    {
     "data": {
      "text/html": [
       "<div>\n",
       "<style scoped>\n",
       "    .dataframe tbody tr th:only-of-type {\n",
       "        vertical-align: middle;\n",
       "    }\n",
       "\n",
       "    .dataframe tbody tr th {\n",
       "        vertical-align: top;\n",
       "    }\n",
       "\n",
       "    .dataframe thead th {\n",
       "        text-align: right;\n",
       "    }\n",
       "</style>\n",
       "<table border=\"1\" class=\"dataframe\">\n",
       "  <thead>\n",
       "    <tr style=\"text-align: right;\">\n",
       "      <th></th>\n",
       "      <th>DATE</th>\n",
       "      <th>IP</th>\n",
       "      <th>URL</th>\n",
       "    </tr>\n",
       "  </thead>\n",
       "  <tbody>\n",
       "    <tr>\n",
       "      <th>0</th>\n",
       "      <td>2017-11-08</td>\n",
       "      <td>10.131.0.1</td>\n",
       "      <td>/robots.txt</td>\n",
       "    </tr>\n",
       "    <tr>\n",
       "      <th>1</th>\n",
       "      <td>2017-11-08</td>\n",
       "      <td>10.128.2.1</td>\n",
       "      <td>/robots.txt</td>\n",
       "    </tr>\n",
       "    <tr>\n",
       "      <th>2</th>\n",
       "      <td>2017-11-08</td>\n",
       "      <td>10.129.2.1</td>\n",
       "      <td>/robots.txt</td>\n",
       "    </tr>\n",
       "    <tr>\n",
       "      <th>3</th>\n",
       "      <td>2017-11-09</td>\n",
       "      <td>10.129.2.1</td>\n",
       "      <td>/robots.txt</td>\n",
       "    </tr>\n",
       "    <tr>\n",
       "      <th>4</th>\n",
       "      <td>2017-11-09</td>\n",
       "      <td>10.130.2.1</td>\n",
       "      <td>/robots.txt</td>\n",
       "    </tr>\n",
       "  </tbody>\n",
       "</table>\n",
       "</div>"
      ],
      "text/plain": [
       "        DATE          IP          URL\n",
       "0 2017-11-08  10.131.0.1  /robots.txt\n",
       "1 2017-11-08  10.128.2.1  /robots.txt\n",
       "2 2017-11-08  10.129.2.1  /robots.txt\n",
       "3 2017-11-09  10.129.2.1  /robots.txt\n",
       "4 2017-11-09  10.130.2.1  /robots.txt"
      ]
     },
     "metadata": {},
     "output_type": "display_data"
    }
   ],
   "source": [
    "def generate_df(df):\n",
    "    \n",
    "    error_df         = df[df['STATUS_CODE'].between(400,499)]\n",
    "    mode_cont        = error_df['URL'].mode().to_list()\n",
    "    mode_error_df    = error_df[error_df['URL'].isin(mode_cont)].reset_index().drop('id',axis=1)\n",
    "    df_error_top1    = mode_error_df[[\"DATE\",'IP','URL']].drop_duplicates()\\\n",
    "                                                         .reset_index(drop=True)\n",
    "    return df_error_top1\n",
    "\n",
    "df_error_top1 = generate_df(df)\n",
    "display(df_error_top1.head())"
   ]
  },
  {
   "cell_type": "markdown",
   "metadata": {},
   "source": [
    "<br>\n",
    "<h4>\n",
    "    Listing out the content that causes the highest number of client errors.\n",
    "    <br>\n",
    "    >>> with the IP address occurs continuously across a period of 3 days. \n",
    "</h4>"
   ]
  },
  {
   "cell_type": "code",
   "execution_count": 61,
   "metadata": {},
   "outputs": [
    {
     "name": "stdout",
     "output_type": "stream",
     "text": [
      "\n",
      "\n",
      "IP Addres that have Occured continuously across a period of 3 days\n",
      "\n",
      "-> 10.128.2.1\n",
      "-> 10.129.2.1\n",
      "-> 10.131.2.1\n",
      "-> 10.131.0.1\n",
      "-> 10.130.2.1\n",
      "\n",
      "\n",
      "Data Frame Consisting IP address first occurrences, continuously across a period of 3 days\n",
      "\n"
     ]
    },
    {
     "data": {
      "text/html": [
       "<div>\n",
       "<style scoped>\n",
       "    .dataframe tbody tr th:only-of-type {\n",
       "        vertical-align: middle;\n",
       "    }\n",
       "\n",
       "    .dataframe tbody tr th {\n",
       "        vertical-align: top;\n",
       "    }\n",
       "\n",
       "    .dataframe thead th {\n",
       "        text-align: right;\n",
       "    }\n",
       "</style>\n",
       "<table border=\"1\" class=\"dataframe\">\n",
       "  <thead>\n",
       "    <tr style=\"text-align: right;\">\n",
       "      <th></th>\n",
       "      <th>START_DATE</th>\n",
       "      <th>END_DATE</th>\n",
       "      <th>CONSECUTIVE_IP</th>\n",
       "    </tr>\n",
       "  </thead>\n",
       "  <tbody>\n",
       "    <tr>\n",
       "      <th>0</th>\n",
       "      <td>2017-11-08</td>\n",
       "      <td>2017-11-10</td>\n",
       "      <td>10.128.2.1</td>\n",
       "    </tr>\n",
       "    <tr>\n",
       "      <th>1</th>\n",
       "      <td>2017-11-08</td>\n",
       "      <td>2017-11-10</td>\n",
       "      <td>10.129.2.1</td>\n",
       "    </tr>\n",
       "    <tr>\n",
       "      <th>2</th>\n",
       "      <td>2017-11-09</td>\n",
       "      <td>2017-11-11</td>\n",
       "      <td>10.131.2.1</td>\n",
       "    </tr>\n",
       "    <tr>\n",
       "      <th>3</th>\n",
       "      <td>2017-11-14</td>\n",
       "      <td>2017-11-16</td>\n",
       "      <td>10.131.0.1</td>\n",
       "    </tr>\n",
       "    <tr>\n",
       "      <th>4</th>\n",
       "      <td>2017-12-12</td>\n",
       "      <td>2017-12-14</td>\n",
       "      <td>10.130.2.1</td>\n",
       "    </tr>\n",
       "  </tbody>\n",
       "</table>\n",
       "</div>"
      ],
      "text/plain": [
       "  START_DATE   END_DATE CONSECUTIVE_IP\n",
       "0 2017-11-08 2017-11-10     10.128.2.1\n",
       "1 2017-11-08 2017-11-10     10.129.2.1\n",
       "2 2017-11-09 2017-11-11     10.131.2.1\n",
       "3 2017-11-14 2017-11-16     10.131.0.1\n",
       "4 2017-12-12 2017-12-14     10.130.2.1"
      ]
     },
     "metadata": {},
     "output_type": "display_data"
    }
   ],
   "source": [
    "def consecutive_ip(df):\n",
    "    ip_list       = df_error_top1['IP'].unique()\n",
    "    df_error_top2 = df_error_top1.groupby('IP')['DATE'].value_counts()\\\n",
    "                                                        .to_frame()\\\n",
    "                                                        .rename(columns={'DATE':\"COUNT\"})\n",
    "    store_ip      = []\n",
    "\n",
    "    for ip in ip_list:\n",
    "        ser = df_error_top2.loc[ip]['COUNT'].asfreq(\"D\").rolling(3).sum()\n",
    "        if (ser == 3).any():\n",
    "            first_i = ser[ser==3].index[0]\n",
    "            store_ip.append((first_i- pd.offsets.Day(2),first_i,ip))\n",
    "\n",
    "    consecutive_df = pd.DataFrame(store_ip)\\\n",
    "                        .rename(columns={0:\"START_DATE\",1:\"END_DATE\",2:'CONSECUTIVE_IP'})\\\n",
    "                        .sort_values(by='START_DATE').reset_index(drop=True)\n",
    "    unique_ip      = consecutive_df['CONSECUTIVE_IP'].unique()\n",
    "    return consecutive_df,unique_ip\n",
    "df_error_top1 = generate_df(df)\n",
    "consecutive_df , ip_address = consecutive_ip(df_error_top1)\n",
    "print(\"\\n\\nIP Addres that have Occured continuously across a period of 3 days\\n\")\n",
    "for ip in ip_address:\n",
    "    print(f\"-> {ip}\")\n",
    "print('\\n')\n",
    "print(\"Data Frame Consisting IP address first occurrences, continuously across a period of 3 days\\n\")\n",
    "display(consecutive_df)"
   ]
  },
  {
   "cell_type": "markdown",
   "metadata": {},
   "source": [
    "<br>\n",
    "<h4>\n",
    "    Number of redirect requests for each month and list out the Top 5 months.\n",
    "</h4>"
   ]
  },
  {
   "cell_type": "code",
   "execution_count": 62,
   "metadata": {},
   "outputs": [
    {
     "data": {
      "text/html": [
       "<div>\n",
       "<style scoped>\n",
       "    .dataframe tbody tr th:only-of-type {\n",
       "        vertical-align: middle;\n",
       "    }\n",
       "\n",
       "    .dataframe tbody tr th {\n",
       "        vertical-align: top;\n",
       "    }\n",
       "\n",
       "    .dataframe thead th {\n",
       "        text-align: right;\n",
       "    }\n",
       "</style>\n",
       "<table border=\"1\" class=\"dataframe\">\n",
       "  <thead>\n",
       "    <tr style=\"text-align: right;\">\n",
       "      <th></th>\n",
       "      <th></th>\n",
       "      <th>COUNT</th>\n",
       "    </tr>\n",
       "    <tr>\n",
       "      <th>MONTH</th>\n",
       "      <th>MONTH_NAME</th>\n",
       "      <th></th>\n",
       "    </tr>\n",
       "  </thead>\n",
       "  <tbody>\n",
       "    <tr>\n",
       "      <th>1</th>\n",
       "      <th>January</th>\n",
       "      <td>2045</td>\n",
       "    </tr>\n",
       "    <tr>\n",
       "      <th>11</th>\n",
       "      <th>November</th>\n",
       "      <td>1509</td>\n",
       "    </tr>\n",
       "    <tr>\n",
       "      <th>12</th>\n",
       "      <th>December</th>\n",
       "      <td>383</td>\n",
       "    </tr>\n",
       "  </tbody>\n",
       "</table>\n",
       "</div>"
      ],
      "text/plain": [
       "                  COUNT\n",
       "MONTH MONTH_NAME       \n",
       "1     January      2045\n",
       "11    November     1509\n",
       "12    December      383"
      ]
     },
     "metadata": {},
     "output_type": "display_data"
    }
   ],
   "source": [
    "def redirect_req(df):\n",
    "    new = df['DATE'].dt.month.value_counts().\\\n",
    "                    to_frame().\\\n",
    "                    rename(columns={\"DATE\":\"COUNT\"}).\\\n",
    "                    head(3)\n",
    "    new.index = pd.MultiIndex.from_arrays([new.index.values,new.index.map(lambda m : calendar.month_name[m]).values])\n",
    "    new.index.names = ['MONTH','MONTH_NAME']\n",
    "    return new\n",
    "\n",
    "# Data Frame which only contains data for redirect requests\n",
    "redirect_df = df.loc[df['STATUS_CODE'].between(300,399)]\n",
    "display(redirect_req(redirect_df))"
   ]
  },
  {
   "cell_type": "markdown",
   "metadata": {},
   "source": [
    "<br>\n",
    "<h4>\n",
    "    For the month incurs the most redirect requests, determining the number of redirect\n",
    "    requests for each date\n",
    "</h4>"
   ]
  },
  {
   "cell_type": "code",
   "execution_count": 63,
   "metadata": {},
   "outputs": [
    {
     "name": "stderr",
     "output_type": "stream",
     "text": [
      "C:\\Anaconda\\Anaconda3\\lib\\site-packages\\seaborn\\distributions.py:2557: FutureWarning: `distplot` is a deprecated function and will be removed in a future version. Please adapt your code to use either `displot` (a figure-level function with similar flexibility) or `histplot` (an axes-level function for histograms).\n",
      "  warnings.warn(msg, FutureWarning)\n"
     ]
    },
    {
     "data": {
      "image/png": "[encoded data removed]",
      "text/plain": [
       "<Figure size 432x432 with 1 Axes>"
      ]
     },
     "metadata": {},
     "output_type": "display_data"
    }
   ],
   "source": [
    "def highest_redirect(df):\n",
    "    #Gets me the month with highest redirect requests\n",
    "    highest_reqmonth = redirect_req(df).head(1).index[0][0]\n",
    "    #Filters the data frame where the month is equal to the month with highest redirect requests\n",
    "    new  = df.loc[df['DATE'].dt.month == highest_reqmonth].reset_index().drop('id',axis=1)\n",
    "    #calculate the number of redirect requests for each date.\n",
    "    new_ = new['DATE'].value_counts()\\\n",
    "                      .to_frame()\\\n",
    "                      .rename(columns={'DATE':\"REQUESTS\"})\n",
    "    new_.index.names = ['DATE']\n",
    "    #Plotting Section\n",
    "    sns.set_style('darkgrid')\n",
    "    fig = plt.figure(figsize=(6,6))\n",
    "    fig.suptitle(f'Histogram of Redirect Requests\\nfor each date of {calendar.month_name[highest_reqmonth]}')\n",
    "    axes = sns.distplot(new_['REQUESTS'],kde=False,bins=30,color='blue')    \n",
    "    axes.set_ylabel(\"DATE\\nFREQUENCY\")\n",
    "    fig.add_axes(axes)\n",
    "    plt.show()\n",
    "    return fig , new_\n",
    "\n",
    "# Data Frame which only contains data for redirect requests\n",
    "redirect_df = df.loc[df['STATUS_CODE'].between(300,399)]\n",
    "fig_ii , highestPerDate_df =  highest_redirect(redirect_df)"
   ]
  },
  {
   "cell_type": "markdown",
   "metadata": {},
   "source": [
    "<br>\n",
    "<h4>\n",
    "    For the month incurs the most redirect requests,analyze the pattern of when does the redirect requests happen along a\n",
    "    day\n",
    "</h4>"
   ]
  },
  {
   "cell_type": "code",
   "execution_count": 64,
   "metadata": {},
   "outputs": [
    {
     "data": {
      "image/png": "[encoded data removed]",
      "text/plain": [
       "<Figure size 1080x576 with 1 Axes>"
      ]
     },
     "metadata": {},
     "output_type": "display_data"
    },
    {
     "name": "stdout",
     "output_type": "stream",
     "text": [
      "\n",
      "My brief findings after analysing the graph:\n",
      "\n",
      "\n",
      "From the graph plotted it is evident that nearly most of the redirect requests that took place throughout the \n",
      "month of January (where most redirect requests occurred), they took place when it was it was 20 hour meaning\n",
      "between 8pm- 9pm. 98.97% requests for a day were executed during 20th hour of the day for the month of January. \n",
      "\n"
     ]
    }
   ],
   "source": [
    "def hourly_redirect(df):\n",
    "    #Gets me the month with highest redirect requests\n",
    "    highest_reqmonth = redirect_req(df).head(1).index[0][0]\n",
    "    #Filters the data frame where the month is equal to the month with highest redirect requests\n",
    "    new  = df.loc[df['DATE'].dt.month == highest_reqmonth].reset_index().drop('id',axis=1)\n",
    "    #Calculate the redirect requests that happen each hour\n",
    "    hour_df = new['TIME'].apply(lambda t : t.hour)\\\n",
    "                         .value_counts()\\\n",
    "                         .sort_index()\\\n",
    "                         .reset_index()\\\n",
    "                         .rename(columns={'TIME':'COUNT','index':'HOUR'})     \n",
    "    #Calculate the average requests that happen for each hour across 31 days of January \n",
    "    #and assigns the column 'AVG_COUNT_31' to hour_df\n",
    "    hour_df['AVG_COUNT_31'] = hour_df['COUNT'] / 31\n",
    "    #Make sure that there are 24 hours rows in the dataframe\n",
    "    hour_df = hour_df.set_index(\"HOUR\").reindex(np.arange(24)).reset_index().fillna(0)\n",
    "    #Plotting section\n",
    "    fig  = plt.figure(figsize=(15,8)) #(!ZOOM OUT TO PROPERLY VIEW THE GRAPH)\n",
    "    fig.suptitle(\"Average Number of Redirect Requests for each hour\"\\\n",
    "                 f\" of {calendar.month_name[highest_reqmonth]}\",fontsize=15,va='top')\n",
    "    axes = sns.barplot(x='HOUR',y='AVG_COUNT_31',data=hour_df,color='lightgreen')\n",
    "    axes.set_title(\"Average Requests vs Hour\\n\")\n",
    "    axes.set_ylabel('Average Requests')   \n",
    "    total = hour_df['AVG_COUNT_31'].sum()\n",
    "    #Style each bar in bar plot with respective percentage value, where each hour has value more than 0\n",
    "    for i,p in enumerate(axes.patches):\n",
    "        height = hour_df.iloc[i]['AVG_COUNT_31']\n",
    "        if height:\n",
    "            axes.text(p.get_x()+p.get_width()/2.,\n",
    "                    height+1,\n",
    "                    '{:1.2f}%'.format((height/total)*100),\n",
    "                    ha=\"center\",color='red')     \n",
    "    fig.add_axes(axes)\n",
    "    plt.show()\n",
    "    return fig , hour_df\n",
    "\n",
    "# Data Frame which only contains data for redirect requests\n",
    "redirect_df = df.loc[df['STATUS_CODE'].between(300,399)]\n",
    "fig_iii , hour_df = hourly_redirect(redirect_df)\n",
    "# BRIEF ANALYSIS\n",
    "print(\"\\nMy brief findings after analysing the graph:\\n\")\n",
    "print(\"\"\"\n",
    "From the graph plotted it is evident that nearly most of the redirect requests that took place throughout the \n",
    "month of January (where most redirect requests occurred), they took place when it was it was 20 hour meaning\n",
    "between 8pm- 9pm. 98.97% requests for a day were executed during 20th hour of the day for the month of January. \n",
    "\"\"\")"
   ]
  }
 ],
 "metadata": {
  "kernelspec": {
   "display_name": "Python 3",
   "language": "python",
   "name": "python3"
  },
  "language_info": {
   "codemirror_mode": {
    "name": "ipython",
    "version": 3
   },
   "file_extension": ".py",
   "mimetype": "text/x-python",
   "name": "python",
   "nbconvert_exporter": "python",
   "pygments_lexer": "ipython3",
   "version": "3.7.9"
  }
 },
 "nbformat": 4,
 "nbformat_minor": 4
}
